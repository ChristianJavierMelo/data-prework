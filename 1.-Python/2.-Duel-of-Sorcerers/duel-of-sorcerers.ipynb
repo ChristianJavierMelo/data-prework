{
 "cells": [
  {
   "cell_type": "markdown",
   "metadata": {},
   "source": [
    "<img src=\"https://bit.ly/2VnXWr2\" width=\"100\" align=\"left\">"
   ]
  },
  {
   "cell_type": "markdown",
   "metadata": {},
   "source": [
    "# Duel of Sorcerers\n",
    "You are witnessing an epic battle between two powerful sorcerers: Gandalf and Saruman. Each sorcerer has 10 spells of variable power in their mind and they are going to throw them one after the other. The winner of the duel will be the one who wins more of those clashes between spells. Spells are represented as a list of 10 integers whose value equals the power of the spell.\n",
    "```\n",
    "gandalf = [10, 11, 13, 30, 22, 11, 10, 33, 22, 22]\n",
    "saruman = [23, 66, 12, 43, 12, 10, 44, 23, 12, 17]\n",
    "```\n",
    "For example:\n",
    "- The first clash is won by Saruman: 10 against 23.\n",
    "- The second clash is won by Saruman: 11 against 66.\n",
    "- ...\n",
    "\n",
    "You will create two variables, one for each sorcerer, where the sum of clashes won will be stored. Depending on which variable is greater at the end of the duel, you will show one of the following three results on the screen:\n",
    "* Gandalf wins\n",
    "* Saruman wins\n",
    "* Tie\n",
    "\n",
    "<img src=\"images/content_lightning_bolt_big.jpg\" width=\"400\">"
   ]
  },
  {
   "cell_type": "markdown",
   "metadata": {},
   "source": [
    "## Tools\n",
    "You don't necessarily need to use all the tools. Maybe you opt to use some of them or completely different ones, they are given to help you shape the exercise. Programming exercises can be solved in many different ways.\n",
    "\n",
    "1. Data structures: **lists, dictionaries**\n",
    "2. Loop: **for loop**\n",
    "3. Conditional statements: **if-elif-else**\n",
    "4. Functions: **range(), len(), print()**\n",
    "\n",
    "## Tasks\n",
    "\n",
    "#### 1. Create two variables called `gandalf` and `saruman` and assign them the spell power lists. Create a variable called `spells` to store the number of spells that the sorcerers cast. "
   ]
  },
  {
   "cell_type": "code",
   "execution_count": 1,
   "metadata": {},
   "outputs": [],
   "source": [
    "gandalf = [10, 11, 13, 30, 22, 11, 10, 33, 22, 22]\n",
    "saruman = [23, 66, 12, 43, 12, 10, 44, 23, 12, 17]\n",
    "spells=len(gandalf)"
   ]
  },
  {
   "cell_type": "markdown",
   "metadata": {},
   "source": [
    "#### 2. Create two variables called `gandalf_wins` and `saruman_wins`. Set both of them to 0. \n",
    "You will use these variables to count the number of clashes each sorcerer wins. "
   ]
  },
  {
   "cell_type": "code",
   "execution_count": 2,
   "metadata": {},
   "outputs": [],
   "source": [
    "gandalf_wins=0\n",
    "saruman_wins=0"
   ]
  },
  {
   "cell_type": "markdown",
   "metadata": {},
   "source": [
    "#### 3. Using the lists of spells of both sorcerers, update variables `gandalf_wins` and `saruman_wins` to count the number of times each sorcerer wins a clash. "
   ]
  },
  {
   "cell_type": "code",
   "execution_count": 3,
   "metadata": {},
   "outputs": [
    {
     "name": "stdout",
     "output_type": "stream",
     "text": [
      "saruman wins the clash. Number of clashes won 1\n",
      "saruman wins the clash. Number of clashes won 2\n",
      "gandalf wins the clash. Number of clashes won 1\n",
      "saruman wins the clash. Number of clashes won 3\n",
      "gandalf wins the clash. Number of clashes won 2\n",
      "gandalf wins the clash. Number of clashes won 3\n",
      "saruman wins the clash. Number of clashes won 4\n",
      "gandalf wins the clash. Number of clashes won 4\n",
      "gandalf wins the clash. Number of clashes won 5\n",
      "gandalf wins the clash. Number of clashes won 6\n"
     ]
    }
   ],
   "source": [
    "for i in range(spells):\n",
    "    if gandalf[i]<saruman[i]:\n",
    "        saruman_wins+=1\n",
    "        print('saruman wins the clash. Number of clashes won',saruman_wins)\n",
    "    else:\n",
    "        gandalf_wins+=1\n",
    "        print('gandalf wins the clash. Number of clashes won',gandalf_wins)"
   ]
  },
  {
   "cell_type": "markdown",
   "metadata": {},
   "source": [
    "#### 4. Who won the battle?\n",
    "Print `Gandalf wins`, `Saruman wins` or `Tie` depending on the result. "
   ]
  },
  {
   "cell_type": "code",
   "execution_count": 4,
   "metadata": {},
   "outputs": [
    {
     "name": "stdout",
     "output_type": "stream",
     "text": [
      "Gandalf is the winner of the battle. \n",
      "Total of clashes won by gandalf: 6 clashes\n"
     ]
    }
   ],
   "source": [
    "if gandalf_wins<saruman_wins:\n",
    "    print('Saruman is the winner of the battle. \\n\\t\\tTotal of clashes won by saruman:',saruman_wins,'clashes')\n",
    "else:\n",
    "    print('Gandalf is the winner of the battle. \\n\\t\\tTotal of clashes won by gandalf:',gandalf_wins,'clashes')"
   ]
  },
  {
   "cell_type": "markdown",
   "metadata": {},
   "source": [
    "## Bonus\n",
    "\n",
    "In this bonus challenge, you'll need to check the winner of the battle but this time, a sorcerer wins if he succeeds in winning 3 spell clashes in a row.\n",
    "\n",
    "Also, the spells now have a name and there is a dictionary that associates that name to a power.\n",
    "\n",
    "```\n",
    "POWER = {\n",
    "    'Fireball': 50, \n",
    "    'Lightning bolt': 40, \n",
    "    'Magic arrow': 10, \n",
    "    'Black Tentacles': 25, \n",
    "    'Contagion': 45\n",
    "}\n",
    "\n",
    "gandalf = ['Fireball', 'Lightning bolt', 'Lightning bolt', 'Magic arrow', 'Fireball', \n",
    "           'Magic arrow', 'Lightning bolt', 'Fireball', 'Fireball', 'Fireball']\n",
    "saruman = ['Contagion', 'Contagion', 'Black Tentacles', 'Fireball', 'Black Tentacles', \n",
    "           'Lightning bolt', 'Magic arrow', 'Contagion', 'Magic arrow', 'Magic arrow']\n",
    "```\n",
    "\n",
    "#### 1. Create variables `POWER`, `gandalf` and `saruman` as seen above. Create a variable called `spells` to store the number of spells that the sorcerers cast. "
   ]
  },
  {
   "cell_type": "code",
   "execution_count": 5,
   "metadata": {},
   "outputs": [],
   "source": [
    "POWER={'Fireball': 50,'Lightning bolt': 40,'Magic arrow': 10,'Black Tentacles': 25,'Contagion': 45}\n",
    "gandalf=['Fireball','Lightning bolt','Lightning bolt','Magic arrow','Fireball','Magic arrow','Lightning bolt','Fireball','Magic arrow','Fireball']\n",
    "saruman=['Contagion','Contagion','Black Tentacles','Fireball','Black Tentacles','Lightning bolt','Magic arrow','Contagion','Magic arrow','Magic arrow']\n",
    "spells=len(gandalf)+len(saruman)"
   ]
  },
  {
   "cell_type": "markdown",
   "metadata": {},
   "source": [
    "#### 2. Create two variables called `gandalf_wins` and `saruman_wins`. Set both of them to 0. "
   ]
  },
  {
   "cell_type": "code",
   "execution_count": 6,
   "metadata": {},
   "outputs": [],
   "source": [
    "Gandalf_wins=0\n",
    "Saruman_wins=0"
   ]
  },
  {
   "cell_type": "markdown",
   "metadata": {},
   "source": [
    "#### 3. Create two variables called `gandalf_power` and `saruman_power` to store the list of spell powers of each sorcerer."
   ]
  },
  {
   "cell_type": "code",
   "execution_count": 7,
   "metadata": {},
   "outputs": [
    {
     "name": "stdout",
     "output_type": "stream",
     "text": [
      "[50, 40, 40, 10, 50, 10, 40, 50, 10, 50]\n",
      "[45, 45, 25, 50, 25, 40, 10, 45, 10, 10]\n"
     ]
    }
   ],
   "source": [
    "gandalf_power=[POWER[key] for key in gandalf if key in POWER]\n",
    "saruman_power=[POWER[key] for key in saruman if key in POWER]\n",
    "print(gandalf_power)\n",
    "print(saruman_power)"
   ]
  },
  {
   "cell_type": "markdown",
   "metadata": {},
   "source": [
    "#### 4. The battle starts! Using the variables you've created above, code the execution of spell clashes. Remember that a sorcerer wins if he succeeds in winning 3 spell clashes in a row. \n",
    "If a clash ends up in a tie, the counter of wins in a row is not restarted to 0. Remember to print who is the winner of the battle. "
   ]
  },
  {
   "cell_type": "code",
   "execution_count": 8,
   "metadata": {},
   "outputs": [
    {
     "name": "stdout",
     "output_type": "stream",
     "text": [
      "Gandalf wins the clash. Number of clashes won 1\n",
      "Saruman wins the clash. Number of clashes won 1\n",
      "Gandalf wins the clash. Number of clashes won 2\n",
      "Saruman wins the clash. Number of clashes won 2\n",
      "Gandalf wins the clash. Number of clashes won 3\n",
      "Saruman wins the clash. Number of clashes won 3\n",
      "Gandalf wins the clash. Number of clashes won 4\n",
      "Gandalf wins the clash. Number of clashes won 5\n",
      "The fight finished in drawn. Number of clashes in draw 1\n",
      "Gandalf wins the clash. Number of clashes won 6\n",
      "Total of clashes won by Gandalf are 6 Gandalf is the winner of the battle\n"
     ]
    }
   ],
   "source": [
    "tie=0\n",
    "bonus_battle=[gandalf_power,saruman_power]\n",
    "\n",
    "for n in range(len(min(bonus_battle))):\n",
    "    if bonus_battle[0][n]<bonus_battle[1][n]:\n",
    "        Saruman_wins+=1\n",
    "        print('Saruman wins the clash. Number of clashes won',Saruman_wins)\n",
    "    elif bonus_battle[0][n]==bonus_battle[1][n]:\n",
    "        tie+=1\n",
    "        print('The fight finished in drawn. Number of clashes in draw',tie)\n",
    "    else:\n",
    "        Gandalf_wins+=1\n",
    "        print('Gandalf wins the clash. Number of clashes won',Gandalf_wins)\n",
    "\n",
    "if Gandalf_wins<Saruman_wins:\n",
    "    print('Total of clashes won by Saruman are',Saruman_wins,'\\n\\t\\tSaruman is the winner of the battle')\n",
    "else:\n",
    "    print('Total of clashes won by Gandalf are',Gandalf_wins,'\\n\\t\\tGandalf is the winner of the battle')"
   ]
  },
  {
   "cell_type": "markdown",
   "metadata": {},
   "source": [
    "#### 5. Find the average spell power of Gandalf and Saruman. "
   ]
  },
  {
   "cell_type": "code",
   "execution_count": 9,
   "metadata": {},
   "outputs": [
    {
     "name": "stdout",
     "output_type": "stream",
     "text": [
      "Gandalf´s average spell power 35.0\n",
      "Saruman´s average spell power 30.5\n"
     ]
    }
   ],
   "source": [
    "average_gandalf=sum(gandalf_power)/len(gandalf_power)\n",
    "average_saruman=sum(saruman_power)/len(saruman_power)\n",
    "print('Gandalf´s average spell power', average_gandalf)\n",
    "print('Saruman´s average spell power', average_saruman)"
   ]
  },
  {
   "cell_type": "markdown",
   "metadata": {},
   "source": [
    "#### 6. Find the standard deviation of the spell power of Gandalf and Saruman. "
   ]
  },
  {
   "cell_type": "code",
   "execution_count": 10,
   "metadata": {},
   "outputs": [
    {
     "name": "stdout",
     "output_type": "stream",
     "text": [
      "Standard deviation of Gandalf is 17.7951304201\n",
      "Standard deviation of Saruman is 16.4062996031\n"
     ]
    }
   ],
   "source": [
    "import statistics\n",
    "gandalf_deviation=round(statistics.stdev(gandalf_power), 10)\n",
    "saruman_deviation=round(statistics.stdev(saruman_power), 10)\n",
    "\n",
    "print('Standard deviation of Gandalf is',gandalf_deviation)\n",
    "print('Standard deviation of Saruman is',saruman_deviation)"
   ]
  }
 ],
 "metadata": {
  "kernelspec": {
   "display_name": "Python 3",
   "language": "python",
   "name": "python3"
  },
  "language_info": {
   "codemirror_mode": {
    "name": "ipython",
    "version": 3
   },
   "file_extension": ".py",
   "mimetype": "text/x-python",
   "name": "python",
   "nbconvert_exporter": "python",
   "pygments_lexer": "ipython3",
   "version": "3.8.1"
  }
 },
 "nbformat": 4,
 "nbformat_minor": 2
}

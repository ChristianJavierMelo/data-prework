{
 "cells": [
  {
   "cell_type": "markdown",
   "metadata": {},
   "source": [
    "<img src=\"https://bit.ly/2VnXWr2\" width=\"100\" align=\"left\">"
   ]
  },
  {
   "cell_type": "markdown",
   "metadata": {},
   "source": [
    "# Rock, Paper & Scissors\n",
    "\n",
    "Let's play the famous game against our computer. You can check the rules [here](https://en.wikipedia.org/wiki/Rock%E2%80%93paper%E2%80%93scissors). \n",
    "\n",
    "## Task\n",
    "Create a program that imitates the playability of the well known game of rock, paper, scissors. Follow the guidelines provided.\n",
    "\n",
    "## Tools\n",
    "1. Loop: **for/while**\n",
    "2. Functions: **input(), print()...**\n",
    "3. Conditional statements: **if, elif, else**\n",
    "4. Definition of functions. Modular programming\n",
    "5. Import modules\n",
    "\n",
    "**To solve this challenge, the use of functions is recommended.**\n",
    "\n",
    "#### 1. Import the choice function of the random module."
   ]
  },
  {
   "cell_type": "code",
   "execution_count": 1,
   "metadata": {},
   "outputs": [],
   "source": [
    "from random import choice"
   ]
  },
  {
   "cell_type": "markdown",
   "metadata": {},
   "source": [
    "#### 2. Create a list that includes the 3 possible gesture options of the game: 'rock', 'paper' or 'scissors'. Store the list in a variable called `gestures`."
   ]
  },
  {
   "cell_type": "code",
   "execution_count": 2,
   "metadata": {},
   "outputs": [],
   "source": [
    "gestures=['rock','paper','scissors']"
   ]
  },
  {
   "cell_type": "markdown",
   "metadata": {},
   "source": [
    "#### 3. Create a variable called `n_rounds` to store the maximum number of rounds to play in a game. \n",
    "Remember that the number of rounds must be odd: 1, 3, 5, ..."
   ]
  },
  {
   "cell_type": "code",
   "execution_count": 3,
   "metadata": {},
   "outputs": [
    {
     "name": "stdout",
     "output_type": "stream",
     "text": [
      "\n",
      "Select the number of rounds that you want to play (Hint: Number of rounds must be odd: 1, 3, 5, etc.): 3\n"
     ]
    }
   ],
   "source": [
    "n_rounds=input('\\nSelect the number of rounds that you want to play (Hint: Number of rounds must be odd: 1, 3, 5, etc.): ')\n",
    "\n",
    "odd_number=0\n",
    "while odd_number==0:\n",
    "    try:\n",
    "        n_rounds=int(n_rounds)\n",
    "        odd_number=1\n",
    "        odd=n_rounds % 2\n",
    "        if odd==0:\n",
    "            odd_number=0\n",
    "            n_rounds=input('\\nPlease, enter an odd number: ')\n",
    "    except:\n",
    "        n_rounds=input('\\nPlease, enter an odd number: ')"
   ]
  },
  {
   "cell_type": "markdown",
   "metadata": {},
   "source": [
    "#### 4. Create a variable called `rounds_to_win` to store the number of rounds that a player must win to win the game.\n",
    "**Hint**: the value stored in `rounds_to_win` depends on the value of `n_rounds`. "
   ]
  },
  {
   "cell_type": "code",
   "execution_count": 4,
   "metadata": {},
   "outputs": [],
   "source": [
    "import math\n",
    "rounds_to_win=math.ceil(n_rounds/2)"
   ]
  },
  {
   "cell_type": "markdown",
   "metadata": {},
   "source": [
    "#### 5. Create two variables to store the number of rounds that the computer and the player have won. Call these variables `cpu_score` and `player_score`."
   ]
  },
  {
   "cell_type": "code",
   "execution_count": 5,
   "metadata": {},
   "outputs": [],
   "source": [
    "cpu_score=0\n",
    "player_score=0"
   ]
  },
  {
   "cell_type": "markdown",
   "metadata": {},
   "source": [
    "#### 6. Define a function that randomly returns one of the 3 gesture options.\n",
    "You will use this function to simulate the gesture choice of the computer. "
   ]
  },
  {
   "cell_type": "code",
   "execution_count": 6,
   "metadata": {},
   "outputs": [
    {
     "data": {
      "text/plain": [
       "'scissors'"
      ]
     },
     "execution_count": 6,
     "metadata": {},
     "output_type": "execute_result"
    }
   ],
   "source": [
    "def cpu_selection(gestures):\n",
    "    return choice(gestures)\n",
    "cpu_selection(gestures)"
   ]
  },
  {
   "cell_type": "markdown",
   "metadata": {},
   "source": [
    "#### 7. Define a function that asks the player which is the gesture he or she wants to show: 'rock', 'paper' or 'scissors'.\n",
    "The player should only be allowed to choose one of the 3 gesture options. If the player's choice is not rock, paper or scissors, keep asking until it is."
   ]
  },
  {
   "cell_type": "code",
   "execution_count": 7,
   "metadata": {},
   "outputs": [
    {
     "name": "stdout",
     "output_type": "stream",
     "text": [
      "\n",
      "\t\trock\n",
      "\t\tpaper\n",
      "\t\tscissors\n",
      "\n",
      "\t\tSelect an option: rock\n"
     ]
    },
    {
     "data": {
      "text/plain": [
       "'rock'"
      ]
     },
     "execution_count": 7,
     "metadata": {},
     "output_type": "execute_result"
    }
   ],
   "source": [
    "def player_selection(gestures):\n",
    "    print('\\n\\t\\trock\\n\\t\\tpaper\\n\\t\\tscissors')\n",
    "    player_election=0\n",
    "    while player_election==0:\n",
    "        player_election=input('\\n\\t\\tSelect an option: ')\n",
    "        if player_election in gestures:\n",
    "            return player_election\n",
    "        else:\n",
    "            print('please, choose between options showed above')\n",
    "            player_election=0\n",
    "\n",
    "player_selection(gestures)"
   ]
  },
  {
   "cell_type": "markdown",
   "metadata": {},
   "source": [
    "#### 8. Define a function that checks who won a round. \n",
    "The function should return 0 if there is a tie, 1 if the computer wins and 2 if the player wins."
   ]
  },
  {
   "cell_type": "code",
   "execution_count": 8,
   "metadata": {},
   "outputs": [
    {
     "name": "stdout",
     "output_type": "stream",
     "text": [
      "\n",
      "\t\trock\n",
      "\t\tpaper\n",
      "\t\tscissors\n",
      "\n",
      "\t\tSelect an option: rock\n",
      "2\n"
     ]
    }
   ],
   "source": [
    "# 0 = Draw, # 1 = machine wins # 2 = player wins\n",
    "def rounds(player,machine):\n",
    "    while player=='rock':\n",
    "        if machine=='rock':\n",
    "            return (0)\n",
    "        if machine=='paper':\n",
    "            return (1)\n",
    "        if machine=='scissors':\n",
    "            return (2) \n",
    "    while player=='paper':\n",
    "        if machine=='rock':\n",
    "            return(2)\n",
    "        if machine=='paper':\n",
    "            return(0)\n",
    "        if machine=='scissors':\n",
    "            return(1)\n",
    "    while player=='scissors':\n",
    "        if machine=='rock':\n",
    "            return(1)\n",
    "        if machine=='paper':\n",
    "            return(2)\n",
    "        if machine=='scissors':\n",
    "            return(0)\n",
    "\n",
    "print(rounds(player_selection(gestures),cpu_selection(gestures)))"
   ]
  },
  {
   "cell_type": "markdown",
   "metadata": {},
   "source": [
    "#### 9. Define a function that prints the choice of the computer, the choice of the player and a message that announces who won the current round. \n",
    "You should also use this function to update the variables that count the number of rounds that the computer and the player have won. The score of the winner increases by one point. If there is a tie, the score does not increase."
   ]
  },
  {
   "cell_type": "code",
   "execution_count": null,
   "metadata": {},
   "outputs": [],
   "source": []
  },
  {
   "cell_type": "markdown",
   "metadata": {},
   "source": [
    "#### 10. Now it's time to code the execution of the game using the functions and variables you defined above. \n",
    "\n",
    "First, create a loop structure that repeats while no player reaches the minimum score necessary to win and the number of rounds is less than the maximum number of rounds to play in a game.  \n",
    "\n",
    "Inside the loop, use the functions and variables above to create the execution of a round: ask for the player's choice, generate the random choice of the computer, show the round results, update the scores, etc. "
   ]
  },
  {
   "cell_type": "code",
   "execution_count": 9,
   "metadata": {},
   "outputs": [
    {
     "name": "stdout",
     "output_type": "stream",
     "text": [
      "\n",
      "\t\trock\n",
      "\t\tpaper\n",
      "\t\tscissors\n",
      "\n",
      "\t\tSelect an option: rock\n",
      "User has chosen rock\n",
      "Cpu has chosen scissors\n",
      "\n",
      "You won the round\n",
      "\n",
      "\t\trock\n",
      "\t\tpaper\n",
      "\t\tscissors\n",
      "\n",
      "\t\tSelect an option: paper\n",
      "User has chosen paper\n",
      "Cpu has chosen paper\n",
      "\n",
      "The round ended in a tie\n",
      "\n",
      "\t\trock\n",
      "\t\tpaper\n",
      "\t\tscissors\n",
      "\n",
      "\t\tSelect an option: scissors\n",
      "User has chosen scissors\n",
      "Cpu has chosen paper\n",
      "\n",
      "You won the round\n",
      "\n",
      "\t\trock\n",
      "\t\tpaper\n",
      "\t\tscissors\n",
      "\n",
      "\t\tSelect an option: scissors\n",
      "User has chosen scissors\n",
      "Cpu has chosen scissors\n",
      "\n",
      "The round ended in a tie\n",
      "\n",
      "\t\trock\n",
      "\t\tpaper\n",
      "\t\tscissors\n",
      "\n",
      "\t\tSelect an option: paper\n",
      "User has chosen paper\n",
      "Cpu has chosen rock\n",
      "\n",
      "You won the round\n"
     ]
    }
   ],
   "source": [
    "rounds_completed=0\n",
    "while rounds_completed<n_rounds and cpu_score<rounds_to_win and player_score<rounds_to_win:\n",
    "    player=player_selection(gestures)\n",
    "    print('User has chosen '+ player)\n",
    "    machine=cpu_selection(gestures)\n",
    "    print('Cpu has chosen '+ machine)\n",
    "    if rounds(player,machine)==1:\n",
    "        cpu_score+=1\n",
    "        rounds_completed+=1\n",
    "        print('\\nYou lost the round')\n",
    "    elif rounds(player,machine)==2:\n",
    "        player_score+=1\n",
    "        rounds_completed+=1\n",
    "        print('\\nYou won the round')\n",
    "    else:\n",
    "        cpu_score=0\n",
    "        player_score=0\n",
    "        print('\\nThe round ended in a tie')"
   ]
  },
  {
   "cell_type": "markdown",
   "metadata": {},
   "source": [
    "#### 11. Print the winner of the game based on who won more rounds.\n",
    "Remember that the game might be tied. "
   ]
  },
  {
   "cell_type": "code",
   "execution_count": 10,
   "metadata": {},
   "outputs": [
    {
     "name": "stdout",
     "output_type": "stream",
     "text": [
      "GAME OVER\n",
      "\t\tYou won the game\n"
     ]
    }
   ],
   "source": [
    "if player_score<cpu_score:\n",
    "    print('GAME OVER\\n\\t\\tYou lost the game')\n",
    "else:\n",
    "    print('GAME OVER\\n\\t\\tYou won the game')"
   ]
  },
  {
   "cell_type": "markdown",
   "metadata": {},
   "source": [
    "# Bonus: Rock, Paper, Scissors, Lizard & Spock\n",
    "![](images/rpsls.jpg)\n",
    "\n",
    "In this challenge, you need to improve the previous game by adding two new options. To know more about the rules of the improved version of rock, paper, scissors, check this [link](http://www.samkass.com/theories/RPSSL.html). \n",
    "\n",
    "In addition, you will also need to improve how the game interacts with the player: the number of rounds to play, which must be an odd number, will be requested to the user until a valid number is entered. Define a new function to make that request.\n",
    "\n",
    "**Hint**: Try to reuse the code that you already coded in the previous challenge. If your code is efficient, this bonus will only consist of simple modifications to the original game."
   ]
  },
  {
   "cell_type": "code",
   "execution_count": 12,
   "metadata": {},
   "outputs": [
    {
     "name": "stdout",
     "output_type": "stream",
     "text": [
      "\n",
      "Select the number of rounds that you want to play (Hint: Number of rounds must be odd: 1, 3, 5, etc.): 2\n",
      "\n",
      "Please, enter an odd number: 3\n",
      "\n",
      "\t\trock\n",
      "\t\tpaper\n",
      "\t\tscissors\n",
      "\t\tlizard\n",
      "\t\tspock\n",
      "\n",
      "\t\tSelect an option: spock\n",
      "User has chosen spock\n",
      "Cpu has chosen scissors\n",
      "\n",
      "You won the round\n",
      "\n",
      "\t\trock\n",
      "\t\tpaper\n",
      "\t\tscissors\n",
      "\t\tlizard\n",
      "\t\tspock\n",
      "\n",
      "\t\tSelect an option: lizard\n",
      "User has chosen lizard\n",
      "Cpu has chosen spock\n",
      "\n",
      "You won the round\n",
      "\n",
      "GAME OVER\n",
      "\t\tYou won the game\n"
     ]
    }
   ],
   "source": [
    "from random import choice\n",
    "\n",
    "new_gestures=['rock','paper','scissors','lizard','spock']\n",
    "\n",
    "n_rounds=input('\\nSelect the number of rounds that you want to play (Hint: Number of rounds must be odd: 1, 3, 5, etc.): ')\n",
    "\n",
    "odd_number=0\n",
    "while odd_number==0:\n",
    "    try:\n",
    "        n_rounds=int(n_rounds)\n",
    "        odd_number=1\n",
    "        odd=n_rounds % 2\n",
    "        if odd==0:\n",
    "            odd_number=0\n",
    "            n_rounds=input('\\nPlease, enter an odd number: ')\n",
    "    except:\n",
    "        n_rounds=input('\\nPlease, enter an odd number: ')\n",
    "\n",
    "import math\n",
    "rounds_to_win=math.ceil(n_rounds/2)\n",
    "\n",
    "cpu_score=0\n",
    "player_score=0\n",
    "\n",
    "def cpu_selection(new_gestures):\n",
    "    return choice(new_gestures)\n",
    "\n",
    "\n",
    "def player_selection(new_gestures):\n",
    "    print('\\n\\t\\trock\\n\\t\\tpaper\\n\\t\\tscissors\\n\\t\\tlizard\\n\\t\\tspock')\n",
    "    player_election=0\n",
    "    while player_election==0:\n",
    "        player_election=input('\\n\\t\\tSelect an option: ')\n",
    "        if player_election in new_gestures:\n",
    "            return player_election\n",
    "        else:\n",
    "            print('please, choose between options showed above')\n",
    "            player_election=0\n",
    "\n",
    "# 0 = Draw, # 1 = machine wins # 2 = player wins\n",
    "def rounds(player,machine):\n",
    "    while player=='rock':\n",
    "        if machine=='rock':\n",
    "            return (0)\n",
    "        if machine=='paper':\n",
    "            return (1)\n",
    "        if machine=='scissors':\n",
    "            return (2)\n",
    "        if machine=='spock':\n",
    "            return (1)\n",
    "        if machine=='lizard':\n",
    "            return (2)\n",
    "    while player=='paper':\n",
    "        if machine=='rock':\n",
    "            return(2)\n",
    "        if machine=='paper':\n",
    "            return(0)\n",
    "        if machine=='scissors':\n",
    "            return(1)\n",
    "        if machine=='spock':\n",
    "            return (2)\n",
    "        if machine=='lizard':\n",
    "            return (1)\n",
    "    while player=='scissors':\n",
    "        if machine=='rock':\n",
    "            return(1)\n",
    "        if machine=='paper':\n",
    "            return(2)\n",
    "        if machine=='scissors':\n",
    "            return(0)\n",
    "        if machine=='spock':\n",
    "            return (1)\n",
    "        if machine=='lizard':\n",
    "            return (2)\n",
    "    while player=='lizard':\n",
    "        if machine=='rock':\n",
    "            return(1)\n",
    "        if machine=='paper':\n",
    "            return(2)\n",
    "        if machine=='scissors':\n",
    "            return(1)\n",
    "        if machine=='spock':\n",
    "            return (2)\n",
    "        if machine=='lizard':\n",
    "            return (0)\n",
    "    while player=='spock':\n",
    "        if machine=='rock':\n",
    "            return(2)\n",
    "        if machine=='paper':\n",
    "            return(1)\n",
    "        if machine=='scissors':\n",
    "            return(2)\n",
    "        if machine=='spock':\n",
    "            return (0)\n",
    "        if machine=='lizard':\n",
    "            return (1)\n",
    "\n",
    "\n",
    "rounds_completed=0\n",
    "while rounds_completed<n_rounds and cpu_score<rounds_to_win and player_score<rounds_to_win:\n",
    "    player=player_selection(new_gestures)\n",
    "    print('User has chosen '+ player)\n",
    "    machine=cpu_selection(new_gestures)\n",
    "    print('Cpu has chosen '+ machine)\n",
    "    if rounds(player,machine)==1:\n",
    "        cpu_score+=1\n",
    "        rounds_completed+=1\n",
    "        print('\\nYou lost the round')\n",
    "    elif rounds(player,machine)==2:\n",
    "        player_score+=1\n",
    "        rounds_completed+=1\n",
    "        print('\\nYou won the round')\n",
    "    else:\n",
    "        cpu_score=0\n",
    "        player_score=0\n",
    "        print('\\nThe round ended in a tie')\n",
    "\n",
    "\n",
    "if player_score<cpu_score:\n",
    "    print('\\nGAME OVER\\n\\t\\tYou lost the game')\n",
    "else:\n",
    "    print('\\nGAME OVER\\n\\t\\tYou won the game')"
   ]
  },
  {
   "cell_type": "code",
   "execution_count": null,
   "metadata": {},
   "outputs": [],
   "source": []
  }
 ],
 "metadata": {
  "kernelspec": {
   "display_name": "Python 3",
   "language": "python",
   "name": "python3"
  },
  "language_info": {
   "codemirror_mode": {
    "name": "ipython",
    "version": 3
   },
   "file_extension": ".py",
   "mimetype": "text/x-python",
   "name": "python",
   "nbconvert_exporter": "python",
   "pygments_lexer": "ipython3",
   "version": "3.8.1"
  }
 },
 "nbformat": 4,
 "nbformat_minor": 2
}
